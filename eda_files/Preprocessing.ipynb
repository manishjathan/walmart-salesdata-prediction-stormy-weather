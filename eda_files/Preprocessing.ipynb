{
 "cells": [
  {
   "cell_type": "code",
   "execution_count": 1,
   "id": "dc62d154-5754-4e70-9570-3d3198842163",
   "metadata": {},
   "outputs": [],
   "source": [
    "import pandas as pd\n",
    "import numpy as np\n",
    "import seaborn as sns\n",
    "import matplotlib.pyplot as plt\n",
    "from collections import OrderedDict\n",
    "from tqdm import tqdm"
   ]
  },
  {
   "cell_type": "code",
   "execution_count": 2,
   "id": "a6bfe964-4801-45ce-9d1f-9202c9496bc8",
   "metadata": {},
   "outputs": [],
   "source": [
    "train_df = pd.read_csv(\"../csv_files/train.csv\")\n",
    "weather_df = pd.read_csv(\"../csv_files/weather.csv\")"
   ]
  },
  {
   "cell_type": "markdown",
   "id": "fcc546d2-76e1-4027-873b-ea6d48898445",
   "metadata": {},
   "source": [
    "### We came at the preprocessing part after doing all the analysis and it was observed that weather.csv file contained missing values"
   ]
  },
  {
   "cell_type": "code",
   "execution_count": 3,
   "id": "964f4683-b60e-4abb-96d9-d6a2d646760f",
   "metadata": {},
   "outputs": [
    {
     "data": {
      "text/html": [
       "<div>\n",
       "<style scoped>\n",
       "    .dataframe tbody tr th:only-of-type {\n",
       "        vertical-align: middle;\n",
       "    }\n",
       "\n",
       "    .dataframe tbody tr th {\n",
       "        vertical-align: top;\n",
       "    }\n",
       "\n",
       "    .dataframe thead th {\n",
       "        text-align: right;\n",
       "    }\n",
       "</style>\n",
       "<table border=\"1\" class=\"dataframe\">\n",
       "  <thead>\n",
       "    <tr style=\"text-align: right;\">\n",
       "      <th></th>\n",
       "      <th>station_nbr</th>\n",
       "      <th>date</th>\n",
       "      <th>tmax</th>\n",
       "      <th>tmin</th>\n",
       "      <th>tavg</th>\n",
       "      <th>depart</th>\n",
       "      <th>dewpoint</th>\n",
       "      <th>wetbulb</th>\n",
       "      <th>heat</th>\n",
       "      <th>cool</th>\n",
       "      <th>sunrise</th>\n",
       "      <th>sunset</th>\n",
       "      <th>codesum</th>\n",
       "      <th>snowfall</th>\n",
       "      <th>preciptotal</th>\n",
       "      <th>stnpressure</th>\n",
       "      <th>sealevel</th>\n",
       "      <th>resultspeed</th>\n",
       "      <th>resultdir</th>\n",
       "      <th>avgspeed</th>\n",
       "    </tr>\n",
       "  </thead>\n",
       "  <tbody>\n",
       "    <tr>\n",
       "      <th>0</th>\n",
       "      <td>1</td>\n",
       "      <td>2012-01-01</td>\n",
       "      <td>52</td>\n",
       "      <td>31</td>\n",
       "      <td>42</td>\n",
       "      <td>M</td>\n",
       "      <td>36</td>\n",
       "      <td>40</td>\n",
       "      <td>23</td>\n",
       "      <td>0</td>\n",
       "      <td>-</td>\n",
       "      <td>-</td>\n",
       "      <td>RA FZFG BR</td>\n",
       "      <td>M</td>\n",
       "      <td>0.05</td>\n",
       "      <td>29.78</td>\n",
       "      <td>29.92</td>\n",
       "      <td>3.6</td>\n",
       "      <td>20</td>\n",
       "      <td>4.6</td>\n",
       "    </tr>\n",
       "    <tr>\n",
       "      <th>1</th>\n",
       "      <td>2</td>\n",
       "      <td>2012-01-01</td>\n",
       "      <td>48</td>\n",
       "      <td>33</td>\n",
       "      <td>41</td>\n",
       "      <td>16</td>\n",
       "      <td>37</td>\n",
       "      <td>39</td>\n",
       "      <td>24</td>\n",
       "      <td>0</td>\n",
       "      <td>0716</td>\n",
       "      <td>1626</td>\n",
       "      <td>RA</td>\n",
       "      <td>0.0</td>\n",
       "      <td>0.07</td>\n",
       "      <td>28.82</td>\n",
       "      <td>29.91</td>\n",
       "      <td>9.1</td>\n",
       "      <td>23</td>\n",
       "      <td>11.3</td>\n",
       "    </tr>\n",
       "    <tr>\n",
       "      <th>2</th>\n",
       "      <td>3</td>\n",
       "      <td>2012-01-01</td>\n",
       "      <td>55</td>\n",
       "      <td>34</td>\n",
       "      <td>45</td>\n",
       "      <td>9</td>\n",
       "      <td>24</td>\n",
       "      <td>36</td>\n",
       "      <td>20</td>\n",
       "      <td>0</td>\n",
       "      <td>0735</td>\n",
       "      <td>1720</td>\n",
       "      <td></td>\n",
       "      <td>0.0</td>\n",
       "      <td>0.00</td>\n",
       "      <td>29.77</td>\n",
       "      <td>30.47</td>\n",
       "      <td>9.9</td>\n",
       "      <td>31</td>\n",
       "      <td>10.0</td>\n",
       "    </tr>\n",
       "    <tr>\n",
       "      <th>3</th>\n",
       "      <td>4</td>\n",
       "      <td>2012-01-01</td>\n",
       "      <td>63</td>\n",
       "      <td>47</td>\n",
       "      <td>55</td>\n",
       "      <td>4</td>\n",
       "      <td>28</td>\n",
       "      <td>43</td>\n",
       "      <td>10</td>\n",
       "      <td>0</td>\n",
       "      <td>0728</td>\n",
       "      <td>1742</td>\n",
       "      <td></td>\n",
       "      <td>0.0</td>\n",
       "      <td>0.00</td>\n",
       "      <td>29.79</td>\n",
       "      <td>30.48</td>\n",
       "      <td>8.0</td>\n",
       "      <td>35</td>\n",
       "      <td>8.2</td>\n",
       "    </tr>\n",
       "    <tr>\n",
       "      <th>4</th>\n",
       "      <td>6</td>\n",
       "      <td>2012-01-01</td>\n",
       "      <td>63</td>\n",
       "      <td>34</td>\n",
       "      <td>49</td>\n",
       "      <td>0</td>\n",
       "      <td>31</td>\n",
       "      <td>43</td>\n",
       "      <td>16</td>\n",
       "      <td>0</td>\n",
       "      <td>0727</td>\n",
       "      <td>1742</td>\n",
       "      <td></td>\n",
       "      <td>0.0</td>\n",
       "      <td>0.00</td>\n",
       "      <td>29.95</td>\n",
       "      <td>30.47</td>\n",
       "      <td>14.0</td>\n",
       "      <td>36</td>\n",
       "      <td>13.8</td>\n",
       "    </tr>\n",
       "  </tbody>\n",
       "</table>\n",
       "</div>"
      ],
      "text/plain": [
       "   station_nbr        date tmax tmin tavg depart dewpoint wetbulb heat cool  \\\n",
       "0            1  2012-01-01   52   31   42      M       36      40   23    0   \n",
       "1            2  2012-01-01   48   33   41     16       37      39   24    0   \n",
       "2            3  2012-01-01   55   34   45      9       24      36   20    0   \n",
       "3            4  2012-01-01   63   47   55      4       28      43   10    0   \n",
       "4            6  2012-01-01   63   34   49      0       31      43   16    0   \n",
       "\n",
       "  sunrise sunset     codesum snowfall preciptotal stnpressure sealevel  \\\n",
       "0       -      -  RA FZFG BR        M        0.05       29.78    29.92   \n",
       "1    0716   1626          RA      0.0        0.07       28.82    29.91   \n",
       "2    0735   1720                  0.0        0.00       29.77    30.47   \n",
       "3    0728   1742                  0.0        0.00       29.79    30.48   \n",
       "4    0727   1742                  0.0        0.00       29.95    30.47   \n",
       "\n",
       "  resultspeed resultdir avgspeed  \n",
       "0         3.6        20      4.6  \n",
       "1         9.1        23     11.3  \n",
       "2         9.9        31     10.0  \n",
       "3         8.0        35      8.2  \n",
       "4        14.0        36     13.8  "
      ]
     },
     "execution_count": 3,
     "metadata": {},
     "output_type": "execute_result"
    }
   ],
   "source": [
    "weather_df.head()"
   ]
  },
  {
   "cell_type": "markdown",
   "id": "682c7c17-438c-4aa2-8a69-3bbff3121ae9",
   "metadata": {},
   "source": [
    "* #### let's look at the missing values in weather_df\n",
    "* #### Missing values are denoted by '-','M' and 'T'"
   ]
  },
  {
   "cell_type": "code",
   "execution_count": 4,
   "id": "77be24d0-f0a1-467c-b8b4-1dc1de54ed5a",
   "metadata": {},
   "outputs": [],
   "source": [
    "missing_df = pd.DataFrame(columns =['column_name','nbr_missing_vals'])\n",
    "row_index = 0\n",
    "for col in weather_df.columns:\n",
    "    missing_df.loc[row_index,'column_name'] = col\n",
    "    ser = weather_df[col].isin(['-',' ','M','T']).value_counts()\n",
    "    if len(ser) > 1:\n",
    "        missing_df.loc[row_index,'nbr_missing_vals'] = ser[1]\n",
    "    else:\n",
    "        missing_df.loc[row_index,'nbr_missing_vals'] = 0\n",
    "    row_index += 1"
   ]
  },
  {
   "cell_type": "code",
   "execution_count": 5,
   "id": "59b829ae-38d0-49a3-b7c7-988d5f44fdc6",
   "metadata": {},
   "outputs": [
    {
     "data": {
      "text/plain": [
       "<AxesSubplot:xlabel='column_name', ylabel='nbr_missing_vals'>"
      ]
     },
     "execution_count": 5,
     "metadata": {},
     "output_type": "execute_result"
    },
    {
     "data": {
      "image/png": "[encoded data removed]",
      "text/plain": [
       "<Figure size 1440x360 with 1 Axes>"
      ]
     },
     "metadata": {
      "needs_background": "light"
     },
     "output_type": "display_data"
    }
   ],
   "source": [
    "fig,ax = plt.subplots(nrows = 1,ncols = 1,figsize=(20,5))\n",
    "sns.barplot(x = 'column_name', y = 'nbr_missing_vals', data=missing_df)"
   ]
  },
  {
   "cell_type": "markdown",
   "id": "61e67fdf-5802-4fa2-814e-0df5f9550af0",
   "metadata": {},
   "source": [
    "* #### To fill in the missing values which are numerical we'll use a simple strategy for now which is group by station_nbr and take average for each column.\n",
    "* #### For categorical values we can use mode values which are obtained after groupby of station_nbr.\n",
    "* #### Later while modelling we'll try more methods depending on how better the results are."
   ]
  },
  {
   "cell_type": "markdown",
   "id": "b583434e-917c-481f-ac72-c3c03bd22ec7",
   "metadata": {},
   "source": [
    "#### Replacing all missing values by -1000 to be imputed later with actual means and modes"
   ]
  },
  {
   "cell_type": "code",
   "execution_count": 6,
   "id": "1d303af7-5e40-44e3-9d01-485af9743db4",
   "metadata": {},
   "outputs": [],
   "source": [
    "weather_df.codesum = weather_df.codesum.apply(lambda x : x.strip())"
   ]
  },
  {
   "cell_type": "code",
   "execution_count": 7,
   "id": "a8df6f27-53c7-4e03-b83f-6d3f70001f3b",
   "metadata": {},
   "outputs": [],
   "source": [
    "weather_df.replace('M','-1000',inplace=True)\n",
    "weather_df.replace('  T','-1000',inplace=True)\n",
    "weather_df.replace('-','-1000',inplace=True)\n",
    "weather_df.replace('','-1000',inplace=True)"
   ]
  },
  {
   "cell_type": "code",
   "execution_count": 8,
   "id": "7fab4445-8ee6-4808-9ee5-6926561dd352",
   "metadata": {},
   "outputs": [],
   "source": [
    "datetime_columns = ['date']\n",
    "categorical_columns = ['station_nbr','codesum','sunrise','sunset']\n",
    "\n",
    "def change_datatype():\n",
    "    \"\"\"\n",
    "        This function is used to return a dictionary of column and it's corresponding correct datatype\n",
    "    \"\"\"\n",
    "    numerical_columns = [col for col in weather_df.columns if ((col not in categorical_columns) and (col not in datetime_columns))]\n",
    "    datatypes = weather_df.dtypes.to_dict()\n",
    "    for column in numerical_columns:\n",
    "        datatypes[column] = 'float'\n",
    "    for column in categorical_columns:\n",
    "        datatypes[column] = 'object'\n",
    "    dtp = OrderedDict()\n",
    "    for (k, v) in datatypes.items():\n",
    "        dtp[k] = str(v)\n",
    "\n",
    "    print(\"Column datatypes : \",dtp)\n",
    "    return dtp, numerical_columns"
   ]
  },
  {
   "cell_type": "code",
   "execution_count": 9,
   "id": "fcf47c47-b838-4e59-be0b-b292df9fb1da",
   "metadata": {},
   "outputs": [
    {
     "name": "stdout",
     "output_type": "stream",
     "text": [
      "Column datatypes :  OrderedDict([('station_nbr', 'object'), ('date', 'object'), ('tmax', 'float'), ('tmin', 'float'), ('tavg', 'float'), ('depart', 'float'), ('dewpoint', 'float'), ('wetbulb', 'float'), ('heat', 'float'), ('cool', 'float'), ('sunrise', 'object'), ('sunset', 'object'), ('codesum', 'object'), ('snowfall', 'float'), ('preciptotal', 'float'), ('stnpressure', 'float'), ('sealevel', 'float'), ('resultspeed', 'float'), ('resultdir', 'float'), ('avgspeed', 'float')])\n"
     ]
    }
   ],
   "source": [
    "dtp, num_cols = change_datatype()\n",
    "weather_df = weather_df.astype(dtp)"
   ]
  },
  {
   "cell_type": "code",
   "execution_count": 10,
   "id": "29fb2777-210b-40f8-bcfd-61479acf27dd",
   "metadata": {},
   "outputs": [
    {
     "name": "stdout",
     "output_type": "stream",
     "text": [
      "Categorical columns :  ['station_nbr', 'codesum', 'sunrise', 'sunset']\n",
      "Numerical columns :  ['tmax', 'tmin', 'tavg', 'depart', 'dewpoint', 'wetbulb', 'heat', 'cool', 'snowfall', 'preciptotal', 'stnpressure', 'sealevel', 'resultspeed', 'resultdir', 'avgspeed']\n"
     ]
    }
   ],
   "source": [
    "print(\"Categorical columns : \",categorical_columns)\n",
    "print(\"Numerical columns : \",num_cols)"
   ]
  },
  {
   "cell_type": "markdown",
   "id": "de89f176-070f-4f4c-9357-83bb75c338f0",
   "metadata": {},
   "source": [
    "#### Replacing all -1000 with their respective group's means and modes."
   ]
  },
  {
   "cell_type": "code",
   "execution_count": 11,
   "id": "eb08c95e-27cb-44cc-98e5-94509ae33f67",
   "metadata": {},
   "outputs": [
    {
     "name": "stderr",
     "output_type": "stream",
     "text": [
      " 15%|█▌        | 3/20 [00:00<00:00, 27.13it/s]"
     ]
    },
    {
     "name": "stdout",
     "output_type": "stream",
     "text": [
      "Numerical col :  tmax\n",
      "Numerical col :  tmin\n",
      "Numerical col :  tavg\n"
     ]
    },
    {
     "name": "stderr",
     "output_type": "stream",
     "text": [
      " 30%|███       | 6/20 [00:00<00:00, 17.24it/s]"
     ]
    },
    {
     "name": "stdout",
     "output_type": "stream",
     "text": [
      "Numerical col :  depart\n",
      "Numerical col :  dewpoint\n",
      "Numerical col :  wetbulb\n"
     ]
    },
    {
     "name": "stderr",
     "output_type": "stream",
     "text": [
      " 40%|████      | 8/20 [00:00<00:00, 14.92it/s]"
     ]
    },
    {
     "name": "stdout",
     "output_type": "stream",
     "text": [
      "Numerical col :  heat\n",
      "Numerical col :  cool\n"
     ]
    },
    {
     "name": "stderr",
     "output_type": "stream",
     "text": [
      " 50%|█████     | 10/20 [00:00<00:00, 13.63it/s]"
     ]
    },
    {
     "name": "stdout",
     "output_type": "stream",
     "text": [
      "Categorical col :  sunrise\n"
     ]
    },
    {
     "name": "stderr",
     "output_type": "stream",
     "text": [
      " 60%|██████    | 12/20 [00:00<00:00, 13.79it/s]"
     ]
    },
    {
     "name": "stdout",
     "output_type": "stream",
     "text": [
      "Categorical col :  sunset\n",
      "Categorical col :  codesum\n",
      "Numerical col :  snowfall\n"
     ]
    },
    {
     "name": "stderr",
     "output_type": "stream",
     "text": [
      " 70%|███████   | 14/20 [00:01<00:00, 12.36it/s]"
     ]
    },
    {
     "name": "stdout",
     "output_type": "stream",
     "text": [
      "Numerical col :  preciptotal\n",
      "Numerical col :  stnpressure\n"
     ]
    },
    {
     "name": "stderr",
     "output_type": "stream",
     "text": [
      " 80%|████████  | 16/20 [00:01<00:00, 12.17it/s]"
     ]
    },
    {
     "name": "stdout",
     "output_type": "stream",
     "text": [
      "Numerical col :  sealevel\n"
     ]
    },
    {
     "name": "stderr",
     "output_type": "stream",
     "text": [
      " 90%|█████████ | 18/20 [00:01<00:00, 12.15it/s]"
     ]
    },
    {
     "name": "stdout",
     "output_type": "stream",
     "text": [
      "Numerical col :  resultspeed\n",
      "Numerical col :  resultdir\n",
      "Numerical col :  avgspeed\n"
     ]
    },
    {
     "name": "stderr",
     "output_type": "stream",
     "text": [
      "100%|██████████| 20/20 [00:01<00:00, 13.23it/s]\n"
     ]
    }
   ],
   "source": [
    "replacement_df = pd.DataFrame()\n",
    "df_index = 0\n",
    "for col in tqdm(weather_df.columns):\n",
    "    ## If col in categorical_columns then use mode strategy to fill in the missing values\n",
    "    if col in categorical_columns and weather_df[col].isin(['-1000']).any():\n",
    "        print(\"Categorical col : \",col)\n",
    "        mode_val = weather_df[weather_df[col]!='-1000'].groupby(['station_nbr'])[col].agg(pd.Series.mode)\n",
    "        for station in mode_val.index:\n",
    "            replace_index = weather_df[(weather_df['station_nbr'] == station) & (weather_df[col] == '-1000')][col].index\n",
    "            replacement_df.loc[df_index,'station'] = station\n",
    "            replacement_df.loc[df_index,'replace_index'] = ','.join([str(x) for x in list(replace_index.values)])\n",
    "            replacement_df.loc[df_index,'col'] = [str(col)]\n",
    "            replacement_df.loc[df_index,'val'] = [mode_val[station]]\n",
    "            df_index += 1\n",
    "\n",
    "    elif col in num_cols and weather_df[col].isin([-1000]).any():\n",
    "        print(\"Numerical col : \",col)\n",
    "        mean_val = weather_df[weather_df[col]!=-1000].groupby(['station_nbr'])[col].mean()\n",
    "        for station in mean_val.index:\n",
    "            replace_index = weather_df[(weather_df['station_nbr'] == station) & (weather_df[col] == -1000)].index\n",
    "            replacement_df.loc[df_index,'station'] = station\n",
    "            replacement_df.loc[df_index,'replace_index'] = \",\".join([str(x) for x in list(replace_index.values)])\n",
    "            replacement_df.loc[df_index,'col'] = [str(col)]\n",
    "            replacement_df.loc[df_index,'val'] = [mean_val[station]]\n",
    "            df_index += 1"
   ]
  },
  {
   "cell_type": "code",
   "execution_count": 12,
   "id": "49694567-5487-4bd3-83c6-96bf1a433aca",
   "metadata": {},
   "outputs": [
    {
     "data": {
      "text/plain": [
       "station                                            20.0\n",
       "replace_index    2887,6947,8447,13956,14416,14536,16516\n",
       "col                                                tavg\n",
       "val                                           68.879377\n",
       "Name: 59, dtype: object"
      ]
     },
     "execution_count": 12,
     "metadata": {},
     "output_type": "execute_result"
    }
   ],
   "source": [
    "replacement_df.loc[59]"
   ]
  },
  {
   "cell_type": "code",
   "execution_count": 13,
   "id": "66eed0be-a1c9-4f7d-941e-35aaf7610fc9",
   "metadata": {},
   "outputs": [],
   "source": [
    "def get_replacement_info(index):\n",
    "    station = replacement_df.loc[index,'station']\n",
    "    col = replacement_df.loc[index, 'col']\n",
    "    val = replacement_df.loc[index, 'val']\n",
    "    replace_str_list = replacement_df.loc[index, 'replace_index'].split(\",\")\n",
    "    if len(replace_str_list) == 1 and replace_str_list[0] == '':\n",
    "        return None\n",
    "    else:\n",
    "        replace_index = [int(x) for x in replace_str_list]\n",
    "        return replace_index, col, val"
   ]
  },
  {
   "cell_type": "code",
   "execution_count": 14,
   "id": "f9979846-652f-473e-ba27-793d1db0072d",
   "metadata": {},
   "outputs": [],
   "source": [
    "for index in replacement_df.index:\n",
    "    if get_replacement_info(index) != None:\n",
    "        replace_index, col, val = get_replacement_info(index)\n",
    "        weather_df.loc[replace_index, col] = val"
   ]
  },
  {
   "cell_type": "markdown",
   "id": "677a2550-642a-41b8-9e3c-b74a98438f15",
   "metadata": {},
   "source": [
    "* A lot of effort went into understanding why certain -1000's were not getting replaced.\n",
    "* Thought there was some mistake with my code.\n",
    "* The code above which you see could be done in a much simpler and efficient way, but I am not changing it, to show the efforts that I have put in.\n",
    "* Anyways, later realised that some of the columns have plenty of missing values.\n",
    "* So in the next step I'll try to replace them with global mean and mode of that particular column."
   ]
  },
  {
   "cell_type": "code",
   "execution_count": 21,
   "id": "acb33016-3ac2-4e36-8c9a-4d57a595e4fd",
   "metadata": {},
   "outputs": [
    {
     "data": {
      "text/html": [
       "<div>\n",
       "<style scoped>\n",
       "    .dataframe tbody tr th:only-of-type {\n",
       "        vertical-align: middle;\n",
       "    }\n",
       "\n",
       "    .dataframe tbody tr th {\n",
       "        vertical-align: top;\n",
       "    }\n",
       "\n",
       "    .dataframe thead th {\n",
       "        text-align: right;\n",
       "    }\n",
       "</style>\n",
       "<table border=\"1\" class=\"dataframe\">\n",
       "  <thead>\n",
       "    <tr style=\"text-align: right;\">\n",
       "      <th></th>\n",
       "      <th>station_nbr</th>\n",
       "      <th>date</th>\n",
       "      <th>tmax</th>\n",
       "      <th>tmin</th>\n",
       "      <th>tavg</th>\n",
       "      <th>depart</th>\n",
       "      <th>dewpoint</th>\n",
       "      <th>wetbulb</th>\n",
       "      <th>heat</th>\n",
       "      <th>cool</th>\n",
       "      <th>sunrise</th>\n",
       "      <th>sunset</th>\n",
       "      <th>codesum</th>\n",
       "      <th>snowfall</th>\n",
       "      <th>preciptotal</th>\n",
       "      <th>stnpressure</th>\n",
       "      <th>sealevel</th>\n",
       "      <th>resultspeed</th>\n",
       "      <th>resultdir</th>\n",
       "      <th>avgspeed</th>\n",
       "    </tr>\n",
       "  </thead>\n",
       "  <tbody>\n",
       "    <tr>\n",
       "      <th>0</th>\n",
       "      <td>1</td>\n",
       "      <td>2012-01-01</td>\n",
       "      <td>52.0</td>\n",
       "      <td>31.0</td>\n",
       "      <td>42.0</td>\n",
       "      <td>-503.825359</td>\n",
       "      <td>36.0</td>\n",
       "      <td>40.0</td>\n",
       "      <td>23.0</td>\n",
       "      <td>0.0</td>\n",
       "      <td>-1000</td>\n",
       "      <td>-1000</td>\n",
       "      <td>RA FZFG BR</td>\n",
       "      <td>-201.753454</td>\n",
       "      <td>0.05</td>\n",
       "      <td>29.78</td>\n",
       "      <td>29.92</td>\n",
       "      <td>3.6</td>\n",
       "      <td>20.0</td>\n",
       "      <td>4.6</td>\n",
       "    </tr>\n",
       "    <tr>\n",
       "      <th>1</th>\n",
       "      <td>2</td>\n",
       "      <td>2012-01-01</td>\n",
       "      <td>48.0</td>\n",
       "      <td>33.0</td>\n",
       "      <td>41.0</td>\n",
       "      <td>16.000000</td>\n",
       "      <td>37.0</td>\n",
       "      <td>39.0</td>\n",
       "      <td>24.0</td>\n",
       "      <td>0.0</td>\n",
       "      <td>0716</td>\n",
       "      <td>1626</td>\n",
       "      <td>RA</td>\n",
       "      <td>0.000000</td>\n",
       "      <td>0.07</td>\n",
       "      <td>28.82</td>\n",
       "      <td>29.91</td>\n",
       "      <td>9.1</td>\n",
       "      <td>23.0</td>\n",
       "      <td>11.3</td>\n",
       "    </tr>\n",
       "    <tr>\n",
       "      <th>2</th>\n",
       "      <td>3</td>\n",
       "      <td>2012-01-01</td>\n",
       "      <td>55.0</td>\n",
       "      <td>34.0</td>\n",
       "      <td>45.0</td>\n",
       "      <td>9.000000</td>\n",
       "      <td>24.0</td>\n",
       "      <td>36.0</td>\n",
       "      <td>20.0</td>\n",
       "      <td>0.0</td>\n",
       "      <td>0735</td>\n",
       "      <td>1720</td>\n",
       "      <td>RA</td>\n",
       "      <td>0.000000</td>\n",
       "      <td>0.00</td>\n",
       "      <td>29.77</td>\n",
       "      <td>30.47</td>\n",
       "      <td>9.9</td>\n",
       "      <td>31.0</td>\n",
       "      <td>10.0</td>\n",
       "    </tr>\n",
       "    <tr>\n",
       "      <th>3</th>\n",
       "      <td>4</td>\n",
       "      <td>2012-01-01</td>\n",
       "      <td>63.0</td>\n",
       "      <td>47.0</td>\n",
       "      <td>55.0</td>\n",
       "      <td>4.000000</td>\n",
       "      <td>28.0</td>\n",
       "      <td>43.0</td>\n",
       "      <td>10.0</td>\n",
       "      <td>0.0</td>\n",
       "      <td>0728</td>\n",
       "      <td>1742</td>\n",
       "      <td>BR</td>\n",
       "      <td>0.000000</td>\n",
       "      <td>0.00</td>\n",
       "      <td>29.79</td>\n",
       "      <td>30.48</td>\n",
       "      <td>8.0</td>\n",
       "      <td>35.0</td>\n",
       "      <td>8.2</td>\n",
       "    </tr>\n",
       "    <tr>\n",
       "      <th>4</th>\n",
       "      <td>6</td>\n",
       "      <td>2012-01-01</td>\n",
       "      <td>63.0</td>\n",
       "      <td>34.0</td>\n",
       "      <td>49.0</td>\n",
       "      <td>0.000000</td>\n",
       "      <td>31.0</td>\n",
       "      <td>43.0</td>\n",
       "      <td>16.0</td>\n",
       "      <td>0.0</td>\n",
       "      <td>0727</td>\n",
       "      <td>1742</td>\n",
       "      <td>BR</td>\n",
       "      <td>0.000000</td>\n",
       "      <td>0.00</td>\n",
       "      <td>29.95</td>\n",
       "      <td>30.47</td>\n",
       "      <td>14.0</td>\n",
       "      <td>36.0</td>\n",
       "      <td>13.8</td>\n",
       "    </tr>\n",
       "  </tbody>\n",
       "</table>\n",
       "</div>"
      ],
      "text/plain": [
       "  station_nbr        date  tmax  tmin  tavg      depart  dewpoint  wetbulb  \\\n",
       "0           1  2012-01-01  52.0  31.0  42.0 -503.825359      36.0     40.0   \n",
       "1           2  2012-01-01  48.0  33.0  41.0   16.000000      37.0     39.0   \n",
       "2           3  2012-01-01  55.0  34.0  45.0    9.000000      24.0     36.0   \n",
       "3           4  2012-01-01  63.0  47.0  55.0    4.000000      28.0     43.0   \n",
       "4           6  2012-01-01  63.0  34.0  49.0    0.000000      31.0     43.0   \n",
       "\n",
       "   heat  cool sunrise sunset     codesum    snowfall  preciptotal  \\\n",
       "0  23.0   0.0   -1000  -1000  RA FZFG BR -201.753454         0.05   \n",
       "1  24.0   0.0    0716   1626          RA    0.000000         0.07   \n",
       "2  20.0   0.0    0735   1720          RA    0.000000         0.00   \n",
       "3  10.0   0.0    0728   1742          BR    0.000000         0.00   \n",
       "4  16.0   0.0    0727   1742          BR    0.000000         0.00   \n",
       "\n",
       "   stnpressure  sealevel  resultspeed  resultdir  avgspeed  \n",
       "0        29.78     29.92          3.6       20.0       4.6  \n",
       "1        28.82     29.91          9.1       23.0      11.3  \n",
       "2        29.77     30.47          9.9       31.0      10.0  \n",
       "3        29.79     30.48          8.0       35.0       8.2  \n",
       "4        29.95     30.47         14.0       36.0      13.8  "
      ]
     },
     "execution_count": 21,
     "metadata": {},
     "output_type": "execute_result"
    }
   ],
   "source": [
    "weather_df.head()"
   ]
  },
  {
   "cell_type": "markdown",
   "id": "6fe23dc7-32ad-45ab-8bc2-0ad65c89c112",
   "metadata": {},
   "source": [
    "### For rest of the columns using global mean and mode of the column"
   ]
  },
  {
   "cell_type": "code",
   "execution_count": 17,
   "id": "a28a4776-5849-4154-8b23-41a2978ac2e1",
   "metadata": {},
   "outputs": [
    {
     "name": "stdout",
     "output_type": "stream",
     "text": [
      "Numerical col :  depart\n",
      "Mean :  -503.8253585386188\n",
      "Numerical col :  wetbulb\n",
      "Mean :  10.121747059538254\n",
      "Numerical col :  snowfall\n",
      "Mean :  -201.7534540748467\n",
      "Numerical col :  stnpressure\n",
      "Mean :  -13.57467565573777\n",
      "Numerical col :  sealevel\n",
      "Mean :  -21.95012541929439\n",
      "Categorical col :  codesum\n",
      "Mode :  RA BR\n",
      "Categorical col :  sunrise\n",
      "Mode :  -1000\n",
      "Categorical col :  sunset\n",
      "Mode :  -1000\n"
     ]
    }
   ],
   "source": [
    "for col in num_cols:\n",
    "    if weather_df[col].isin([-1000]).any():\n",
    "        print(\"Numerical col : \",col)\n",
    "        mean = weather_df[col].mean()\n",
    "        weather_df[col].replace(-1000, mean, inplace=True)\n",
    "        print(\"Mean : \",mean)\n",
    "\n",
    "for col in categorical_columns:\n",
    "    if weather_df[col].isin(['-1000']).any():\n",
    "        print(\"Categorical col : \",col)\n",
    "        mode = weather_df[col].mode()[0]\n",
    "        print(\"Mode : \",mode)\n",
    "        weather_df[col].replace(-1000, mode,inplace=True)"
   ]
  },
  {
   "cell_type": "code",
   "execution_count": 18,
   "id": "1c689444-a575-4b16-bd5e-80f9c6c6a44b",
   "metadata": {},
   "outputs": [
    {
     "data": {
      "text/html": [
       "<div>\n",
       "<style scoped>\n",
       "    .dataframe tbody tr th:only-of-type {\n",
       "        vertical-align: middle;\n",
       "    }\n",
       "\n",
       "    .dataframe tbody tr th {\n",
       "        vertical-align: top;\n",
       "    }\n",
       "\n",
       "    .dataframe thead th {\n",
       "        text-align: right;\n",
       "    }\n",
       "</style>\n",
       "<table border=\"1\" class=\"dataframe\">\n",
       "  <thead>\n",
       "    <tr style=\"text-align: right;\">\n",
       "      <th></th>\n",
       "      <th>station_nbr</th>\n",
       "      <th>date</th>\n",
       "      <th>tmax</th>\n",
       "      <th>tmin</th>\n",
       "      <th>tavg</th>\n",
       "      <th>depart</th>\n",
       "      <th>dewpoint</th>\n",
       "      <th>wetbulb</th>\n",
       "      <th>heat</th>\n",
       "      <th>cool</th>\n",
       "      <th>sunrise</th>\n",
       "      <th>sunset</th>\n",
       "      <th>codesum</th>\n",
       "      <th>snowfall</th>\n",
       "      <th>preciptotal</th>\n",
       "      <th>stnpressure</th>\n",
       "      <th>sealevel</th>\n",
       "      <th>resultspeed</th>\n",
       "      <th>resultdir</th>\n",
       "      <th>avgspeed</th>\n",
       "    </tr>\n",
       "  </thead>\n",
       "  <tbody>\n",
       "    <tr>\n",
       "      <th>0</th>\n",
       "      <td>1</td>\n",
       "      <td>2012-01-01</td>\n",
       "      <td>52.0</td>\n",
       "      <td>31.0</td>\n",
       "      <td>42.0</td>\n",
       "      <td>-503.825359</td>\n",
       "      <td>36.0</td>\n",
       "      <td>40.0</td>\n",
       "      <td>23.0</td>\n",
       "      <td>0.0</td>\n",
       "      <td>-1000</td>\n",
       "      <td>-1000</td>\n",
       "      <td>RA FZFG BR</td>\n",
       "      <td>-201.753454</td>\n",
       "      <td>0.05</td>\n",
       "      <td>29.78</td>\n",
       "      <td>29.92</td>\n",
       "      <td>3.6</td>\n",
       "      <td>20.0</td>\n",
       "      <td>4.6</td>\n",
       "    </tr>\n",
       "    <tr>\n",
       "      <th>1</th>\n",
       "      <td>2</td>\n",
       "      <td>2012-01-01</td>\n",
       "      <td>48.0</td>\n",
       "      <td>33.0</td>\n",
       "      <td>41.0</td>\n",
       "      <td>16.000000</td>\n",
       "      <td>37.0</td>\n",
       "      <td>39.0</td>\n",
       "      <td>24.0</td>\n",
       "      <td>0.0</td>\n",
       "      <td>0716</td>\n",
       "      <td>1626</td>\n",
       "      <td>RA</td>\n",
       "      <td>0.000000</td>\n",
       "      <td>0.07</td>\n",
       "      <td>28.82</td>\n",
       "      <td>29.91</td>\n",
       "      <td>9.1</td>\n",
       "      <td>23.0</td>\n",
       "      <td>11.3</td>\n",
       "    </tr>\n",
       "    <tr>\n",
       "      <th>2</th>\n",
       "      <td>3</td>\n",
       "      <td>2012-01-01</td>\n",
       "      <td>55.0</td>\n",
       "      <td>34.0</td>\n",
       "      <td>45.0</td>\n",
       "      <td>9.000000</td>\n",
       "      <td>24.0</td>\n",
       "      <td>36.0</td>\n",
       "      <td>20.0</td>\n",
       "      <td>0.0</td>\n",
       "      <td>0735</td>\n",
       "      <td>1720</td>\n",
       "      <td>RA</td>\n",
       "      <td>0.000000</td>\n",
       "      <td>0.00</td>\n",
       "      <td>29.77</td>\n",
       "      <td>30.47</td>\n",
       "      <td>9.9</td>\n",
       "      <td>31.0</td>\n",
       "      <td>10.0</td>\n",
       "    </tr>\n",
       "    <tr>\n",
       "      <th>3</th>\n",
       "      <td>4</td>\n",
       "      <td>2012-01-01</td>\n",
       "      <td>63.0</td>\n",
       "      <td>47.0</td>\n",
       "      <td>55.0</td>\n",
       "      <td>4.000000</td>\n",
       "      <td>28.0</td>\n",
       "      <td>43.0</td>\n",
       "      <td>10.0</td>\n",
       "      <td>0.0</td>\n",
       "      <td>0728</td>\n",
       "      <td>1742</td>\n",
       "      <td>BR</td>\n",
       "      <td>0.000000</td>\n",
       "      <td>0.00</td>\n",
       "      <td>29.79</td>\n",
       "      <td>30.48</td>\n",
       "      <td>8.0</td>\n",
       "      <td>35.0</td>\n",
       "      <td>8.2</td>\n",
       "    </tr>\n",
       "    <tr>\n",
       "      <th>4</th>\n",
       "      <td>6</td>\n",
       "      <td>2012-01-01</td>\n",
       "      <td>63.0</td>\n",
       "      <td>34.0</td>\n",
       "      <td>49.0</td>\n",
       "      <td>0.000000</td>\n",
       "      <td>31.0</td>\n",
       "      <td>43.0</td>\n",
       "      <td>16.0</td>\n",
       "      <td>0.0</td>\n",
       "      <td>0727</td>\n",
       "      <td>1742</td>\n",
       "      <td>BR</td>\n",
       "      <td>0.000000</td>\n",
       "      <td>0.00</td>\n",
       "      <td>29.95</td>\n",
       "      <td>30.47</td>\n",
       "      <td>14.0</td>\n",
       "      <td>36.0</td>\n",
       "      <td>13.8</td>\n",
       "    </tr>\n",
       "  </tbody>\n",
       "</table>\n",
       "</div>"
      ],
      "text/plain": [
       "  station_nbr        date  tmax  tmin  tavg      depart  dewpoint  wetbulb  \\\n",
       "0           1  2012-01-01  52.0  31.0  42.0 -503.825359      36.0     40.0   \n",
       "1           2  2012-01-01  48.0  33.0  41.0   16.000000      37.0     39.0   \n",
       "2           3  2012-01-01  55.0  34.0  45.0    9.000000      24.0     36.0   \n",
       "3           4  2012-01-01  63.0  47.0  55.0    4.000000      28.0     43.0   \n",
       "4           6  2012-01-01  63.0  34.0  49.0    0.000000      31.0     43.0   \n",
       "\n",
       "   heat  cool sunrise sunset     codesum    snowfall  preciptotal  \\\n",
       "0  23.0   0.0   -1000  -1000  RA FZFG BR -201.753454         0.05   \n",
       "1  24.0   0.0    0716   1626          RA    0.000000         0.07   \n",
       "2  20.0   0.0    0735   1720          RA    0.000000         0.00   \n",
       "3  10.0   0.0    0728   1742          BR    0.000000         0.00   \n",
       "4  16.0   0.0    0727   1742          BR    0.000000         0.00   \n",
       "\n",
       "   stnpressure  sealevel  resultspeed  resultdir  avgspeed  \n",
       "0        29.78     29.92          3.6       20.0       4.6  \n",
       "1        28.82     29.91          9.1       23.0      11.3  \n",
       "2        29.77     30.47          9.9       31.0      10.0  \n",
       "3        29.79     30.48          8.0       35.0       8.2  \n",
       "4        29.95     30.47         14.0       36.0      13.8  "
      ]
     },
     "execution_count": 18,
     "metadata": {},
     "output_type": "execute_result"
    }
   ],
   "source": [
    "weather_df.head()"
   ]
  },
  {
   "cell_type": "markdown",
   "id": "414e41d5-83ae-4a83-be6c-93e3a5e02a0d",
   "metadata": {},
   "source": [
    "### Splitting the codesum into list of strings"
   ]
  },
  {
   "cell_type": "code",
   "execution_count": 26,
   "id": "16810cb6-f9e5-4fa4-a636-83d032e93a08",
   "metadata": {},
   "outputs": [],
   "source": [
    "weather_df['codesum_rev'] = weather_df['codesum'].apply(lambda x : x.split(' '))"
   ]
  },
  {
   "cell_type": "code",
   "execution_count": 27,
   "id": "56567fb4-fd20-453e-9989-d84c5f79551a",
   "metadata": {},
   "outputs": [],
   "source": [
    "def split_string(weathers):\n",
    "    weather_list = []\n",
    "    for weather in weathers:\n",
    "        weather_list.extend([weather[i:i+2] for i in range(0,len(weather),2)])\n",
    "    return(weather_list)"
   ]
  },
  {
   "cell_type": "code",
   "execution_count": 28,
   "id": "3916a3d8-c56f-4fcc-a711-85c8fc77dad2",
   "metadata": {},
   "outputs": [],
   "source": [
    "weather_df['codesum_rev'] = weather_df['codesum_rev'].apply(lambda x : split_string(x))"
   ]
  },
  {
   "cell_type": "code",
   "execution_count": 29,
   "id": "ce984dcb-8569-484c-9fb5-d2885214d32e",
   "metadata": {},
   "outputs": [
    {
     "data": {
      "text/plain": [
       "0    [RA, FZ, FG, BR]\n",
       "1                [RA]\n",
       "2                [RA]\n",
       "3                [BR]\n",
       "4                [BR]\n",
       "Name: codesum_rev, dtype: object"
      ]
     },
     "execution_count": 29,
     "metadata": {},
     "output_type": "execute_result"
    }
   ],
   "source": [
    "weather_df.codesum_rev.head()"
   ]
  },
  {
   "cell_type": "code",
   "execution_count": 32,
   "id": "d2160820-3a24-40e7-ad30-f2f67582cf82",
   "metadata": {},
   "outputs": [],
   "source": [
    "weather_df.to_csv('../csv_files/weather_df.csv',index=False)"
   ]
  },
  {
   "cell_type": "code",
   "execution_count": null,
   "id": "c792a756-2a69-4e7e-aa26-99b1a03dcc2b",
   "metadata": {},
   "outputs": [],
   "source": []
  }
 ],
 "metadata": {
  "kernelspec": {
   "display_name": "Python 3",
   "language": "python",
   "name": "python3"
  },
  "language_info": {
   "codemirror_mode": {
    "name": "ipython",
    "version": 3
   },
   "file_extension": ".py",
   "mimetype": "text/x-python",
   "name": "python",
   "nbconvert_exporter": "python",
   "pygments_lexer": "ipython3",
   "version": "3.8.8"
  }
 },
 "nbformat": 4,
 "nbformat_minor": 5
}
