{
 "cells": [
  {
   "cell_type": "code",
   "execution_count": 1,
   "id": "6eeb7402-fbec-427c-bd2a-695c7be5dad1",
   "metadata": {},
   "outputs": [],
   "source": [
    "import pandas as pd\n",
    "import numpy as np"
   ]
  },
  {
   "cell_type": "code",
   "execution_count": 2,
   "id": "23bf7fa1-a6c4-4ec1-8a1f-e441c87113aa",
   "metadata": {},
   "outputs": [],
   "source": [
    "ma_hyperparams_df = pd.read_csv(\"moving_averages_df.csv\")"
   ]
  },
  {
   "cell_type": "code",
   "execution_count": 20,
   "id": "032874d0-52fc-4c08-81a2-2354409d21cb",
   "metadata": {},
   "outputs": [
    {
     "data": {
      "text/html": [
       "<div>\n",
       "<style scoped>\n",
       "    .dataframe tbody tr th:only-of-type {\n",
       "        vertical-align: middle;\n",
       "    }\n",
       "\n",
       "    .dataframe tbody tr th {\n",
       "        vertical-align: top;\n",
       "    }\n",
       "\n",
       "    .dataframe thead th {\n",
       "        text-align: right;\n",
       "    }\n",
       "</style>\n",
       "<table border=\"1\" class=\"dataframe\">\n",
       "  <thead>\n",
       "    <tr style=\"text-align: right;\">\n",
       "      <th></th>\n",
       "      <th>grain</th>\n",
       "      <th>sma_best_param</th>\n",
       "      <th>wma_best_param</th>\n",
       "      <th>ewma_best_param</th>\n",
       "    </tr>\n",
       "  </thead>\n",
       "  <tbody>\n",
       "    <tr>\n",
       "      <th>0</th>\n",
       "      <td>10_21</td>\n",
       "      <td>2.0</td>\n",
       "      <td>2.0</td>\n",
       "      <td>2.0</td>\n",
       "    </tr>\n",
       "    <tr>\n",
       "      <th>1</th>\n",
       "      <td>10_37</td>\n",
       "      <td>6.0</td>\n",
       "      <td>8.0</td>\n",
       "      <td>7.0</td>\n",
       "    </tr>\n",
       "    <tr>\n",
       "      <th>2</th>\n",
       "      <td>10_5</td>\n",
       "      <td>9.0</td>\n",
       "      <td>9.0</td>\n",
       "      <td>9.0</td>\n",
       "    </tr>\n",
       "    <tr>\n",
       "      <th>3</th>\n",
       "      <td>10_86</td>\n",
       "      <td>2.0</td>\n",
       "      <td>2.0</td>\n",
       "      <td>2.0</td>\n",
       "    </tr>\n",
       "    <tr>\n",
       "      <th>4</th>\n",
       "      <td>10_93</td>\n",
       "      <td>2.0</td>\n",
       "      <td>2.0</td>\n",
       "      <td>2.0</td>\n",
       "    </tr>\n",
       "    <tr>\n",
       "      <th>5</th>\n",
       "      <td>11_110</td>\n",
       "      <td>5.0</td>\n",
       "      <td>5.0</td>\n",
       "      <td>5.0</td>\n",
       "    </tr>\n",
       "    <tr>\n",
       "      <th>6</th>\n",
       "      <td>11_61</td>\n",
       "      <td>2.0</td>\n",
       "      <td>2.0</td>\n",
       "      <td>2.0</td>\n",
       "    </tr>\n",
       "    <tr>\n",
       "      <th>7</th>\n",
       "      <td>11_68</td>\n",
       "      <td>3.0</td>\n",
       "      <td>9.0</td>\n",
       "      <td>9.0</td>\n",
       "    </tr>\n",
       "    <tr>\n",
       "      <th>8</th>\n",
       "      <td>11_86</td>\n",
       "      <td>2.0</td>\n",
       "      <td>2.0</td>\n",
       "      <td>2.0</td>\n",
       "    </tr>\n",
       "    <tr>\n",
       "      <th>9</th>\n",
       "      <td>11_87</td>\n",
       "      <td>5.0</td>\n",
       "      <td>5.0</td>\n",
       "      <td>5.0</td>\n",
       "    </tr>\n",
       "  </tbody>\n",
       "</table>\n",
       "</div>"
      ],
      "text/plain": [
       "    grain  sma_best_param  wma_best_param  ewma_best_param\n",
       "0   10_21             2.0             2.0              2.0\n",
       "1   10_37             6.0             8.0              7.0\n",
       "2    10_5             9.0             9.0              9.0\n",
       "3   10_86             2.0             2.0              2.0\n",
       "4   10_93             2.0             2.0              2.0\n",
       "5  11_110             5.0             5.0              5.0\n",
       "6   11_61             2.0             2.0              2.0\n",
       "7   11_68             3.0             9.0              9.0\n",
       "8   11_86             2.0             2.0              2.0\n",
       "9   11_87             5.0             5.0              5.0"
      ]
     },
     "execution_count": 20,
     "metadata": {},
     "output_type": "execute_result"
    }
   ],
   "source": [
    "ma_hyperparams_df.head(10)"
   ]
  },
  {
   "cell_type": "markdown",
   "id": "525216d7-47d5-40ab-ab2d-3dff90b23804",
   "metadata": {},
   "source": [
    "#### How to perform forecasting for a given date for a given grain\n",
    "* check the grain and get the hyper_parameters corresponding to each algorithm.\n",
    "* for each date corresponding to test data, get all the prior date entries(window-size) required for each algorithm.\n",
    "* Create a window of units for those prior date entries, once that is done."
   ]
  },
  {
   "cell_type": "code",
   "execution_count": 4,
   "id": "445138f0-7716-4937-ab5a-626fc72986f7",
   "metadata": {},
   "outputs": [],
   "source": [
    "test_df = pd.read_csv(\"../csv_files/test.csv\")"
   ]
  },
  {
   "cell_type": "code",
   "execution_count": 5,
   "id": "4ffe7a8a-f3bc-41f8-bbc9-33c1aab8a684",
   "metadata": {},
   "outputs": [],
   "source": [
    "test_df['grain'] = test_df['store_nbr'].astype('str') + '_' + test_df['item_nbr'].astype('str')"
   ]
  },
  {
   "cell_type": "code",
   "execution_count": 6,
   "id": "232e19a0-ff61-49b0-9043-b7d88f80e5e4",
   "metadata": {},
   "outputs": [],
   "source": [
    "test_df['date'] = pd.to_datetime(test_df['date'])"
   ]
  },
  {
   "cell_type": "code",
   "execution_count": 11,
   "id": "9f70411e-291f-49c2-a703-955836018242",
   "metadata": {},
   "outputs": [],
   "source": [
    "grain_15_45_test = test_df[test_df['grain'] == '15_45'].reset_index()"
   ]
  },
  {
   "cell_type": "code",
   "execution_count": 32,
   "id": "bbd91e04-fc1b-4311-b6e0-b19ff4b6d027",
   "metadata": {},
   "outputs": [],
   "source": [
    "train_weather_df = pd.read_csv('train_weather_df.csv')\n",
    "train_weather_df['date'] = pd.to_datetime(train_weather_df['date'])"
   ]
  },
  {
   "cell_type": "code",
   "execution_count": 38,
   "id": "2403c90f-1286-46b9-9e18-264ccc93ad81",
   "metadata": {},
   "outputs": [],
   "source": [
    "import pickle"
   ]
  },
  {
   "cell_type": "code",
   "execution_count": 39,
   "id": "0e54c2e7-724f-4a01-9b66-4df68064eb1d",
   "metadata": {},
   "outputs": [],
   "source": [
    "file = open('trained_regressors_dict','rb')\n",
    "trained_regressors_dict = pickle.load(file)\n",
    "file.close()"
   ]
  },
  {
   "cell_type": "code",
   "execution_count": 40,
   "id": "dd7c304f-0867-4128-8683-6da881f376ec",
   "metadata": {},
   "outputs": [],
   "source": [
    "grain_15_45_regressor = trained_regressors_dict['15_45']"
   ]
  },
  {
   "cell_type": "code",
   "execution_count": 13,
   "id": "a1c4698a-8e8f-4f00-8157-7feb1284947d",
   "metadata": {},
   "outputs": [],
   "source": [
    "from datetime import timedelta"
   ]
  },
  {
   "cell_type": "code",
   "execution_count": 52,
   "id": "ac61322c-b1ab-463d-9564-2fab025ed50d",
   "metadata": {},
   "outputs": [],
   "source": [
    "def get_sma(units):\n",
    "    return np.mean(units)"
   ]
  },
  {
   "cell_type": "code",
   "execution_count": 91,
   "id": "d6a7cd94-d91c-4693-9262-efc01ced393e",
   "metadata": {},
   "outputs": [],
   "source": [
    "def get_wma(units):\n",
    "    window_size = len(units)\n",
    "    win_index = 0\n",
    "    window_avg = 0\n",
    "    for unit in units:\n",
    "        window_avg += (window_size-win_index)*unit\n",
    "        win_index += 1\n",
    "    window_avg /= (window_size*(window_size+1)/2)\n",
    "    return window_avg"
   ]
  },
  {
   "cell_type": "code",
   "execution_count": 65,
   "id": "0be05b51-82b9-4d0a-92ff-1c56cf28460d",
   "metadata": {},
   "outputs": [],
   "source": [
    "def get_ewma(units):\n",
    "    window_size = len(units)\n",
    "    alpha = 2/(window_size+1)\n",
    "    win_index = 0\n",
    "    ewa_num = 0\n",
    "    ewa_denom = 0\n",
    "    ewa_avg = 0\n",
    "    for unit in units:\n",
    "        ewa_num += (((1 - alpha)**win_index) * unit)\n",
    "        ewa_denom += ((1 - alpha)**win_index)\n",
    "        win_index += 1\n",
    "    ewa_avg = ewa_num/ewa_denom\n",
    "    return ewa_avg"
   ]
  },
  {
   "cell_type": "code",
   "execution_count": 85,
   "id": "a1295123-45c3-4be2-a44f-9d55f7d60915",
   "metadata": {},
   "outputs": [],
   "source": [
    "def get_window_dates(date, window_size):\n",
    "    return [date - timedelta(days = window) for window in range(1,window_size+1)]"
   ]
  },
  {
   "cell_type": "code",
   "execution_count": 66,
   "id": "afb29e95-6dc8-4079-9242-dfd6ec55411c",
   "metadata": {},
   "outputs": [],
   "source": [
    "global_units_index = dict()"
   ]
  },
  {
   "cell_type": "code",
   "execution_count": 69,
   "id": "6c5423ef-a5d5-45e8-9a14-a671656d6296",
   "metadata": {},
   "outputs": [],
   "source": [
    "def get_input_units(grain, date, window_size, algo):\n",
    "    window_dates = get_window_dates(date, window_size)\n",
    "    required_units = []\n",
    "    history_count = 0\n",
    "    predicted_count = 0\n",
    "    \n",
    "    for window_date in window_dates:\n",
    "        if window_date in train_weather_df.date.values:\n",
    "            unit = train_weather_df[train_weather_df['date'] == window_date]['units'].values[0]\n",
    "            if window_date not in global_units_index.keys():\n",
    "                global_units_index[(grain,window_date,algo)] = unit\n",
    "            history_count += 1\n",
    "            required_units.append(unit)    \n",
    "        else:\n",
    "            unit = global_units_index[(grain,window_date,algo)]\n",
    "            predicted_count +=1\n",
    "            required_units.append(unit)\n",
    "    return required_units"
   ]
  },
  {
   "cell_type": "code",
   "execution_count": 93,
   "id": "035cdc10-2b9e-464d-842e-3fc14d25409c",
   "metadata": {},
   "outputs": [
    {
     "name": "stdout",
     "output_type": "stream",
     "text": [
      "SMA prediction :  73.96875\n",
      "WMA prediction :  74.0\n",
      "EWMA prediction :  74.01562499999999\n"
     ]
    }
   ],
   "source": [
    "predictions = []\n",
    "grain = '15_45'\n",
    "\n",
    "sma_window = int(ma_hyperparams_df[ma_hyperparams_df['grain'] == grain]['sma_best_param'].values[0])\n",
    "wma_window = int(ma_hyperparams_df[ma_hyperparams_df['grain'] == grain]['wma_best_param'].values[0])\n",
    "ewma_window = int(ma_hyperparams_df[ma_hyperparams_df['grain'] == grain]['ewma_best_param'].values[0])\n",
    "\n",
    "date = grain_15_45_test.date[0]\n",
    "sma_units = get_input_units(grain, date, sma_window)\n",
    "pred = get_sma(required_units)\n",
    "print(\"SMA prediction : \",pred)\n",
    "global_units_index[(grain,date,'sma')] = pred\n",
    "\n",
    "wma_units = get_input_units(grain, date, wma_window)\n",
    "pred = get_wma(required_units)\n",
    "print(\"WMA prediction : \",pred)\n",
    "global_units_index[(grain,date,'wma')] = pred\n",
    "\n",
    "ewma_units = get_input_units(grain, date, ewma_window)\n",
    "pred = get_ewma(required_units)\n",
    "print(\"EWMA prediction : \",pred)\n",
    "global_units_index[(grain,date,'ewma')] = pred"
   ]
  },
  {
   "cell_type": "code",
   "execution_count": null,
   "id": "28bdb8a9-d20d-44aa-b5ea-1c0f111d7086",
   "metadata": {},
   "outputs": [],
   "source": []
  }
 ],
 "metadata": {
  "kernelspec": {
   "display_name": "Python 3",
   "language": "python",
   "name": "python3"
  },
  "language_info": {
   "codemirror_mode": {
    "name": "ipython",
    "version": 3
   },
   "file_extension": ".py",
   "mimetype": "text/x-python",
   "name": "python",
   "nbconvert_exporter": "python",
   "pygments_lexer": "ipython3",
   "version": "3.8.8"
  }
 },
 "nbformat": 4,
 "nbformat_minor": 5
}
