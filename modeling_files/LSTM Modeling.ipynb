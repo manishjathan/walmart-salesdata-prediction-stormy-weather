{
 "cells": [
  {
   "cell_type": "markdown",
   "id": "f3c470b8-b888-4365-9fda-9aedc068097a",
   "metadata": {},
   "source": [
    "#### Let's try basic univariate LSTM modeling"
   ]
  },
  {
   "cell_type": "markdown",
   "id": "01c2c5ba-6885-4ab2-8c4e-8ccd384851db",
   "metadata": {},
   "source": [
    "#### We'll do univariate single step forecasting\n",
    "* We'll use the same grain to perform univariate multi-step forecasting.\n",
    "* We know that the size of train data for the above grain is 909 and the size of validation data is 102.\n",
    "* We'll use the train data to create sequences and predict the next-step o/p.\n",
    "* We'll check which window has performed the best.\n",
    "* We'll use that window-size to decide the o/p.\n",
    "* For the date for which the prediction has to be made, check if the prior window-size dates are available or not. If not then the window has to be created(using history as well as available predictions) and it should be given to the model for prediction."
   ]
  },
  {
   "cell_type": "code",
   "execution_count": 1,
   "id": "c071153d-b7a9-469b-9c93-52125fe7e81a",
   "metadata": {},
   "outputs": [],
   "source": [
    "import pandas as pd\n",
    "import numpy as np"
   ]
  },
  {
   "cell_type": "code",
   "execution_count": 2,
   "id": "76920bf5-bc8e-4e2e-8756-a32d5b9c2d9e",
   "metadata": {},
   "outputs": [],
   "source": [
    "train_weather_df = pd.read_csv('train_weather_df.csv').drop(columns = ['Unnamed: 0'])"
   ]
  },
  {
   "cell_type": "code",
   "execution_count": 3,
   "id": "29d29109-3ec8-45a5-a409-fc424a925a0e",
   "metadata": {},
   "outputs": [
    {
     "data": {
      "text/html": [
       "<div>\n",
       "<style scoped>\n",
       "    .dataframe tbody tr th:only-of-type {\n",
       "        vertical-align: middle;\n",
       "    }\n",
       "\n",
       "    .dataframe tbody tr th {\n",
       "        vertical-align: top;\n",
       "    }\n",
       "\n",
       "    .dataframe thead th {\n",
       "        text-align: right;\n",
       "    }\n",
       "</style>\n",
       "<table border=\"1\" class=\"dataframe\">\n",
       "  <thead>\n",
       "    <tr style=\"text-align: right;\">\n",
       "      <th></th>\n",
       "      <th>date</th>\n",
       "      <th>store_nbr</th>\n",
       "      <th>item_nbr</th>\n",
       "      <th>units</th>\n",
       "      <th>grain</th>\n",
       "      <th>day</th>\n",
       "      <th>wday</th>\n",
       "      <th>year</th>\n",
       "      <th>month</th>\n",
       "      <th>week</th>\n",
       "      <th>...</th>\n",
       "      <th>snowfall</th>\n",
       "      <th>preciptotal</th>\n",
       "      <th>stnpressure</th>\n",
       "      <th>sealevel</th>\n",
       "      <th>resultspeed</th>\n",
       "      <th>resultdir</th>\n",
       "      <th>avgspeed</th>\n",
       "      <th>codesum_rev</th>\n",
       "      <th>extreme_weather</th>\n",
       "      <th>mild_weather</th>\n",
       "    </tr>\n",
       "  </thead>\n",
       "  <tbody>\n",
       "    <tr>\n",
       "      <th>0</th>\n",
       "      <td>2012-01-01</td>\n",
       "      <td>15</td>\n",
       "      <td>45</td>\n",
       "      <td>108</td>\n",
       "      <td>15_45</td>\n",
       "      <td>1</td>\n",
       "      <td>6</td>\n",
       "      <td>2012</td>\n",
       "      <td>1</td>\n",
       "      <td>52</td>\n",
       "      <td>...</td>\n",
       "      <td>-201.753454</td>\n",
       "      <td>0.0</td>\n",
       "      <td>24.60</td>\n",
       "      <td>30.59</td>\n",
       "      <td>2.5</td>\n",
       "      <td>16.0</td>\n",
       "      <td>6.1</td>\n",
       "      <td>['SN', 'BR']</td>\n",
       "      <td>0</td>\n",
       "      <td>0</td>\n",
       "    </tr>\n",
       "    <tr>\n",
       "      <th>1</th>\n",
       "      <td>2012-01-02</td>\n",
       "      <td>15</td>\n",
       "      <td>45</td>\n",
       "      <td>160</td>\n",
       "      <td>15_45</td>\n",
       "      <td>2</td>\n",
       "      <td>0</td>\n",
       "      <td>2012</td>\n",
       "      <td>1</td>\n",
       "      <td>1</td>\n",
       "      <td>...</td>\n",
       "      <td>-201.753454</td>\n",
       "      <td>0.0</td>\n",
       "      <td>24.55</td>\n",
       "      <td>30.54</td>\n",
       "      <td>6.1</td>\n",
       "      <td>16.0</td>\n",
       "      <td>6.8</td>\n",
       "      <td>['SN', 'BR']</td>\n",
       "      <td>0</td>\n",
       "      <td>0</td>\n",
       "    </tr>\n",
       "    <tr>\n",
       "      <th>2</th>\n",
       "      <td>2012-01-03</td>\n",
       "      <td>15</td>\n",
       "      <td>45</td>\n",
       "      <td>128</td>\n",
       "      <td>15_45</td>\n",
       "      <td>3</td>\n",
       "      <td>1</td>\n",
       "      <td>2012</td>\n",
       "      <td>1</td>\n",
       "      <td>1</td>\n",
       "      <td>...</td>\n",
       "      <td>-201.753454</td>\n",
       "      <td>0.0</td>\n",
       "      <td>24.40</td>\n",
       "      <td>30.23</td>\n",
       "      <td>2.9</td>\n",
       "      <td>21.0</td>\n",
       "      <td>6.3</td>\n",
       "      <td>['SN', 'BR']</td>\n",
       "      <td>0</td>\n",
       "      <td>0</td>\n",
       "    </tr>\n",
       "    <tr>\n",
       "      <th>3</th>\n",
       "      <td>2012-01-04</td>\n",
       "      <td>15</td>\n",
       "      <td>45</td>\n",
       "      <td>100</td>\n",
       "      <td>15_45</td>\n",
       "      <td>4</td>\n",
       "      <td>2</td>\n",
       "      <td>2012</td>\n",
       "      <td>1</td>\n",
       "      <td>1</td>\n",
       "      <td>...</td>\n",
       "      <td>-201.753454</td>\n",
       "      <td>0.0</td>\n",
       "      <td>24.49</td>\n",
       "      <td>30.36</td>\n",
       "      <td>5.5</td>\n",
       "      <td>19.0</td>\n",
       "      <td>6.1</td>\n",
       "      <td>['SN', 'BR']</td>\n",
       "      <td>0</td>\n",
       "      <td>0</td>\n",
       "    </tr>\n",
       "    <tr>\n",
       "      <th>4</th>\n",
       "      <td>2012-01-05</td>\n",
       "      <td>15</td>\n",
       "      <td>45</td>\n",
       "      <td>103</td>\n",
       "      <td>15_45</td>\n",
       "      <td>5</td>\n",
       "      <td>3</td>\n",
       "      <td>2012</td>\n",
       "      <td>1</td>\n",
       "      <td>1</td>\n",
       "      <td>...</td>\n",
       "      <td>-201.753454</td>\n",
       "      <td>0.0</td>\n",
       "      <td>24.26</td>\n",
       "      <td>30.04</td>\n",
       "      <td>4.2</td>\n",
       "      <td>21.0</td>\n",
       "      <td>5.0</td>\n",
       "      <td>['SN', 'BR']</td>\n",
       "      <td>0</td>\n",
       "      <td>0</td>\n",
       "    </tr>\n",
       "  </tbody>\n",
       "</table>\n",
       "<p>5 rows × 31 columns</p>\n",
       "</div>"
      ],
      "text/plain": [
       "         date  store_nbr  item_nbr  units  grain  day  wday  year  month  \\\n",
       "0  2012-01-01         15        45    108  15_45    1     6  2012      1   \n",
       "1  2012-01-02         15        45    160  15_45    2     0  2012      1   \n",
       "2  2012-01-03         15        45    128  15_45    3     1  2012      1   \n",
       "3  2012-01-04         15        45    100  15_45    4     2  2012      1   \n",
       "4  2012-01-05         15        45    103  15_45    5     3  2012      1   \n",
       "\n",
       "   week  ...    snowfall  preciptotal  stnpressure  sealevel  resultspeed  \\\n",
       "0    52  ... -201.753454          0.0        24.60     30.59          2.5   \n",
       "1     1  ... -201.753454          0.0        24.55     30.54          6.1   \n",
       "2     1  ... -201.753454          0.0        24.40     30.23          2.9   \n",
       "3     1  ... -201.753454          0.0        24.49     30.36          5.5   \n",
       "4     1  ... -201.753454          0.0        24.26     30.04          4.2   \n",
       "\n",
       "   resultdir  avgspeed   codesum_rev  extreme_weather  mild_weather  \n",
       "0       16.0       6.1  ['SN', 'BR']                0             0  \n",
       "1       16.0       6.8  ['SN', 'BR']                0             0  \n",
       "2       21.0       6.3  ['SN', 'BR']                0             0  \n",
       "3       19.0       6.1  ['SN', 'BR']                0             0  \n",
       "4       21.0       5.0  ['SN', 'BR']                0             0  \n",
       "\n",
       "[5 rows x 31 columns]"
      ]
     },
     "execution_count": 3,
     "metadata": {},
     "output_type": "execute_result"
    }
   ],
   "source": [
    "train_weather_df.head()"
   ]
  },
  {
   "cell_type": "code",
   "execution_count": 4,
   "id": "f3390cd8-0097-4a0f-9899-c1267998519a",
   "metadata": {},
   "outputs": [],
   "source": [
    "from utilities.utility import split_dataset, calc_rmsle"
   ]
  },
  {
   "cell_type": "code",
   "execution_count": 5,
   "id": "1e8c3698-8ef6-4e5d-836c-863db115661b",
   "metadata": {},
   "outputs": [],
   "source": [
    "train_x, train_y, val_x, val_y = split_dataset(train_weather_df[['grain','units']])"
   ]
  },
  {
   "cell_type": "code",
   "execution_count": 128,
   "id": "8b998e1b-8a5c-445d-9d90-ac8961c70dc1",
   "metadata": {},
   "outputs": [],
   "source": [
    "train_data = pd.read_csv('../csv_files/train_data.csv')\n",
    "val_data = pd.read_csv('../csv_files/val_data.csv')"
   ]
  },
  {
   "cell_type": "code",
   "execution_count": 129,
   "id": "28e17c1f-fc81-4607-95dc-b83d66634188",
   "metadata": {},
   "outputs": [],
   "source": [
    "train_x, train_y, val_x, val_y = split_dataset(train_data[['grain','units']])"
   ]
  },
  {
   "cell_type": "markdown",
   "id": "8b4606d9-e238-480c-8a48-6c20cc248878",
   "metadata": {},
   "source": [
    "#### Let's create a sequence of size 20 with it's next value as output"
   ]
  },
  {
   "cell_type": "code",
   "execution_count": 130,
   "id": "f623d88a-8711-4c30-b4d5-de9c2030e32b",
   "metadata": {},
   "outputs": [],
   "source": [
    "def create_lstm_ip_seq(inp_seq, window_seq):\n",
    "    new_ip_seq = []\n",
    "    new_op_seq = []\n",
    "    start_index = 0\n",
    "    end_index = len(inp_seq)-window_seq\n",
    "    for i in range(0,end_index):\n",
    "        ip_sequence = np.array(inp_seq.iloc[i:i+window_seq].values)\n",
    "        op = inp_seq.iloc[i+window_seq]\n",
    "        new_ip_seq.append(ip_sequence)\n",
    "        new_op_seq.append(op)\n",
    "\n",
    "    new_ip_seq = np.array(new_ip_seq)\n",
    "    new_op_seq = np.array(new_op_seq)\n",
    "    print(\"Shape of new train_seq : \",new_ip_seq.shape)\n",
    "    print(\"Shape of new op_seq : \",new_op_seq.shape)\n",
    "    return new_ip_seq, new_op_seq"
   ]
  },
  {
   "cell_type": "code",
   "execution_count": 131,
   "id": "00dadd20-9d56-43cd-a022-da6f29239d1e",
   "metadata": {},
   "outputs": [
    {
     "name": "stdout",
     "output_type": "stream",
     "text": [
      "Shape of new train_seq :  (3738251, 7)\n",
      "Shape of new op_seq :  (3738251,)\n",
      "Shape of new train_seq :  (415355, 7)\n",
      "Shape of new op_seq :  (415355,)\n"
     ]
    }
   ],
   "source": [
    "new_train_ip_seq, new_train_out_seq = create_lstm_ip_seq(train_y,7)\n",
    "new_val_ip_seq, new_val_out_seq = create_lstm_ip_seq(val_y,7)"
   ]
  },
  {
   "cell_type": "code",
   "execution_count": 132,
   "id": "f6518762-f2c2-4270-8b47-07d5678c8618",
   "metadata": {},
   "outputs": [],
   "source": [
    "import tensorflow as tf"
   ]
  },
  {
   "cell_type": "code",
   "execution_count": 133,
   "id": "5f078fec-8873-423a-a878-d595b1639962",
   "metadata": {},
   "outputs": [],
   "source": [
    "BATCH_SIZE = 256 # bacth size in batch-SGD/variants\n",
    "BUFFER_SIZE = 10000 # for shuffling the dataset\n",
    "\n",
    "train_univariate = tf.data.Dataset.from_tensor_slices((new_train_ip_seq, new_train_out_seq))\n",
    "train_univariate = train_univariate.cache().shuffle(BUFFER_SIZE).batch(BATCH_SIZE).repeat()\n",
    "#https://www.tensorflow.org/api_docs/python/tf/data/Dataset#repeat\n",
    "\n",
    "val_univariate = tf.data.Dataset.from_tensor_slices((new_val_ip_seq, new_val_out_seq))\n",
    "val_univariate = val_univariate.batch(BATCH_SIZE).repeat()"
   ]
  },
  {
   "cell_type": "code",
   "execution_count": 134,
   "id": "1f751c6d-9704-45b9-ab74-cd6c4c65a91f",
   "metadata": {},
   "outputs": [],
   "source": [
    "simple_lstm_model = tf.keras.models.Sequential([\n",
    "    tf.keras.layers.LSTM(8, input_shape=(new_train_ip_seq.shape[1],1)),\n",
    "    tf.keras.layers.Dense(1)\n",
    "])\n",
    "\n",
    "simple_lstm_model.compile(optimizer='adam', loss='msle')"
   ]
  },
  {
   "cell_type": "code",
   "execution_count": 135,
   "id": "f2403875-9a16-4ed0-8c96-5559f5558ba6",
   "metadata": {},
   "outputs": [
    {
     "name": "stdout",
     "output_type": "stream",
     "text": [
      "Epoch 1/10\n",
      "200/200 [==============================] - 2s 6ms/step - loss: 0.2492 - val_loss: 0.0000e+00\n",
      "Epoch 2/10\n",
      "200/200 [==============================] - 1s 4ms/step - loss: 0.2323 - val_loss: 0.0000e+00\n",
      "Epoch 3/10\n",
      "200/200 [==============================] - 1s 4ms/step - loss: 0.4065 - val_loss: 0.0000e+00\n",
      "Epoch 4/10\n",
      "200/200 [==============================] - 1s 4ms/step - loss: 0.2493 - val_loss: 0.0000e+00\n",
      "Epoch 5/10\n",
      "200/200 [==============================] - 1s 4ms/step - loss: 0.2768 - val_loss: 0.0000e+00\n",
      "Epoch 6/10\n",
      "200/200 [==============================] - 1s 4ms/step - loss: 0.5238 - val_loss: 0.0000e+00\n",
      "Epoch 7/10\n",
      "200/200 [==============================] - 1s 4ms/step - loss: 0.2207 - val_loss: 0.0000e+00\n",
      "Epoch 8/10\n",
      "200/200 [==============================] - 1s 4ms/step - loss: 0.3251 - val_loss: 0.0000e+00\n",
      "Epoch 9/10\n",
      "200/200 [==============================] - 1s 4ms/step - loss: 0.2663 - val_loss: 0.0000e+00\n",
      "Epoch 10/10\n",
      "200/200 [==============================] - 1s 4ms/step - loss: 0.3168 - val_loss: 0.0000e+00\n"
     ]
    },
    {
     "data": {
      "text/plain": [
       "<keras.callbacks.History at 0x7f8a345d4070>"
      ]
     },
     "execution_count": 135,
     "metadata": {},
     "output_type": "execute_result"
    }
   ],
   "source": [
    "STEPS_PER_EPOCH = 200\n",
    "EPOCHS =10\n",
    "\n",
    "# https://www.tensorflow.org/api_docs/python/tf/keras/Model#fit\n",
    "simple_lstm_model.fit(train_univariate, epochs=EPOCHS,\n",
    "                      steps_per_epoch=STEPS_PER_EPOCH,\n",
    "                      validation_data=val_univariate,\n",
    "                      validation_steps = 50)"
   ]
  },
  {
   "cell_type": "code",
   "execution_count": 137,
   "id": "e2992fa0-ddb8-46ac-96c1-1f87bbdf93d2",
   "metadata": {},
   "outputs": [
    {
     "name": "stdout",
     "output_type": "stream",
     "text": [
      "1/1 [==============================] - 0s 19ms/step\n",
      "1/1 [==============================] - 0s 19ms/step\n",
      "1/1 [==============================] - 0s 20ms/step\n",
      "1/1 [==============================] - 0s 19ms/step\n",
      "1/1 [==============================] - 0s 21ms/step\n",
      "1/1 [==============================] - 0s 19ms/step\n",
      "1/1 [==============================] - 0s 18ms/step\n",
      "1/1 [==============================] - 0s 18ms/step\n",
      "1/1 [==============================] - 0s 18ms/step\n",
      "1/1 [==============================] - 0s 18ms/step\n"
     ]
    }
   ],
   "source": [
    "for i in range(10):\n",
    "    pred = simple_lstm_model.predict(new_val_ip_seq[i].reshape(1,-1))[0][0]\n",
    "    obs = new_val_out_seq[i]"
   ]
  },
  {
   "cell_type": "code",
   "execution_count": 138,
   "id": "c0e03d90-7def-42b3-abc3-6f6aef4ccadd",
   "metadata": {},
   "outputs": [],
   "source": [
    "import matplotlib.pyplot as plt\n",
    "import seaborn as sns"
   ]
  },
  {
   "cell_type": "code",
   "execution_count": 139,
   "id": "ed663d13-66ac-403d-ac62-cecfdd3dd54c",
   "metadata": {},
   "outputs": [],
   "source": [
    "def plot_observations_predictions(observations, predictions):\n",
    "    plt.rc(\"figure\", figsize=(25, 8))\n",
    "    plt.rc(\"font\", size=12)\n",
    "\n",
    "    plt.plot(observations,color=\"blue\",label='observations')\n",
    "    plt.plot(predictions, color='red',label='predictions')\n",
    "    plt.title(\"Plot of Predictions and Observed values\")\n",
    "    plt.legend(loc=\"upper right\")\n",
    "    plt.xlabel(\"time\")\n",
    "    plt.ylabel(\"units\")\n",
    "    \n",
    "    plt.show()"
   ]
  },
  {
   "cell_type": "code",
   "execution_count": 140,
   "id": "b3305fba-d23a-4094-85ae-4176fef3091c",
   "metadata": {},
   "outputs": [
    {
     "data": {
      "image/png": "[encoded data removed]",
      "text/plain": [
       "<Figure size 1800x576 with 1 Axes>"
      ]
     },
     "metadata": {
      "needs_background": "light"
     },
     "output_type": "display_data"
    }
   ],
   "source": [
    "plot_observations_predictions(observations, predictions)"
   ]
  },
  {
   "cell_type": "markdown",
   "id": "bccf3425-2e98-46f5-9f29-5cc8adca68e1",
   "metadata": {},
   "source": [
    "* We took a random sample for validation and turns out that the observations and predictions match.\n",
    "* As we know about 95% of the units sold are 0.\n",
    "* we'll now test it against the special grain or max_grain, the one which has maximum count of units sold."
   ]
  },
  {
   "cell_type": "markdown",
   "id": "aeb07e97-ef7e-41e0-8d0e-e7c042230c6e",
   "metadata": {},
   "source": [
    "#### Validating it against the 15th store 45th Item, the one with maximum count of units sold."
   ]
  },
  {
   "cell_type": "code",
   "execution_count": 141,
   "id": "ae407528-ee68-4082-adb2-930cc6d579cf",
   "metadata": {},
   "outputs": [],
   "source": [
    "sp_train_x, sp_train_y, sp_val_x, sp_val_y = split_dataset(train_weather_df[['grain','units']])"
   ]
  },
  {
   "cell_type": "code",
   "execution_count": 143,
   "id": "62f9745c-5f1d-48f2-989c-6aabe1e3c77a",
   "metadata": {},
   "outputs": [
    {
     "name": "stdout",
     "output_type": "stream",
     "text": [
      "Shape of new train_seq :  (95, 7)\n",
      "Shape of new op_seq :  (95,)\n"
     ]
    }
   ],
   "source": [
    "sp_val_ip_seq, sp_val_out_seq = create_lstm_ip_seq(sp_val_y,7)"
   ]
  },
  {
   "cell_type": "code",
   "execution_count": null,
   "id": "efd6ef02-9e9e-49d8-850e-ebdbe2d87384",
   "metadata": {},
   "outputs": [],
   "source": [
    "predictions = []\n",
    "observations = []\n",
    "for i in range(len(sp_val_ip_seq)):\n",
    "    pred = simple_lstm_model.predict(sp_val_ip_seq[i].reshape(1,-1))[0][0]\n",
    "    obs = sp_val_out_seq[i]\n",
    "    predictions.append(pred)\n",
    "    observations.append(obs)"
   ]
  },
  {
   "cell_type": "code",
   "execution_count": 146,
   "id": "a68261d2-6620-42c8-9d67-2ce1b5f00ef5",
   "metadata": {},
   "outputs": [
    {
     "data": {
      "image/png": "[encoded data removed]",
      "text/plain": [
       "<Figure size 1800x576 with 1 Axes>"
      ]
     },
     "metadata": {
      "needs_background": "light"
     },
     "output_type": "display_data"
    }
   ],
   "source": [
    "plot_observations_predictions(observations, predictions)"
   ]
  },
  {
   "cell_type": "markdown",
   "id": "630c89d6-a53c-4fdc-8f18-37ad56d67700",
   "metadata": {},
   "source": [
    "* The model hasn't learned properly, it has learned whatever is present for majority of the grains, which is zero in this case."
   ]
  },
  {
   "cell_type": "markdown",
   "id": "34960bc1-e58b-47d4-a327-b9a18d3e613e",
   "metadata": {},
   "source": [
    "#### Let's form a dataset with grains having non-zero observations for each grain.\n",
    "* We know there were 255 such grains."
   ]
  },
  {
   "cell_type": "code",
   "execution_count": 147,
   "id": "1770f1d9-468a-4e5e-84b7-0d9231ef2341",
   "metadata": {},
   "outputs": [
    {
     "data": {
      "text/plain": [
       "(4153620, 31)"
      ]
     },
     "execution_count": 147,
     "metadata": {},
     "output_type": "execute_result"
    }
   ],
   "source": [
    "train_data.shape"
   ]
  },
  {
   "cell_type": "code",
   "execution_count": 148,
   "id": "d08d5151-e4cb-42a4-a7b2-01a126422065",
   "metadata": {},
   "outputs": [
    {
     "data": {
      "text/plain": [
       "(463980, 31)"
      ]
     },
     "execution_count": 148,
     "metadata": {},
     "output_type": "execute_result"
    }
   ],
   "source": [
    "val_data.shape"
   ]
  },
  {
   "cell_type": "code",
   "execution_count": 150,
   "id": "1de9f9bf-22b0-45f3-abb5-0b8c39aa4c0e",
   "metadata": {},
   "outputs": [],
   "source": [
    "units_count_df = train_data[train_data['units']!=0].groupby(['grain'])['units'].count().reset_index()"
   ]
  },
  {
   "cell_type": "code",
   "execution_count": 154,
   "id": "cd3ea4ce-5bb7-4b51-ae87-ce3c8b5ad68a",
   "metadata": {},
   "outputs": [
    {
     "name": "stdout",
     "output_type": "stream",
     "text": [
      "Number of non zero grain observations :  254\n"
     ]
    }
   ],
   "source": [
    "print(\"Number of non zero grain observations : \",units_count_df.shape[0])"
   ]
  },
  {
   "cell_type": "code",
   "execution_count": 169,
   "id": "adca0def-5f42-4013-8a84-b842eedc1e9f",
   "metadata": {},
   "outputs": [],
   "source": [
    "train_subs_df = train_data[train_data['grain'].isin(list(units_count_df['grain'].values))].drop(columns = ['Unnamed: 0']).reset_index()\n",
    "val_subs_df = val_data[val_data['grain'].isin(list(units_count_df['grain'].values))].drop(columns = ['Unnamed: 0']).reset_index()"
   ]
  },
  {
   "cell_type": "code",
   "execution_count": 170,
   "id": "f50a6d2e-c9de-45ed-8bd4-caa8de11c0e0",
   "metadata": {},
   "outputs": [
    {
     "name": "stdout",
     "output_type": "stream",
     "text": [
      "Number of rows in train data :  211434\n",
      "Number of rows in val data :  23621\n"
     ]
    }
   ],
   "source": [
    "print(\"Number of rows in train data : \",train_subs_df.shape[0])\n",
    "print(\"Number of rows in val data : \",val_subs_df.shape[0])"
   ]
  },
  {
   "cell_type": "markdown",
   "id": "ce8496a0-4d49-4238-92db-63a72279a176",
   "metadata": {},
   "source": [
    "#### Let's create a function to train a simple LSTM model for univariate single step forecasting"
   ]
  },
  {
   "cell_type": "code",
   "execution_count": 178,
   "id": "7a36971c-e25e-4337-9697-5e3ac0dddf32",
   "metadata": {},
   "outputs": [
    {
     "name": "stdout",
     "output_type": "stream",
     "text": [
      "Shape of new train_seq :  (210634, 800)\n",
      "Shape of new op_seq :  (210634,)\n",
      "Shape of new train_seq :  (22821, 800)\n",
      "Shape of new op_seq :  (22821,)\n"
     ]
    }
   ],
   "source": [
    "train_ip_seq, train_out_seq = create_lstm_ip_seq(train_subs_df['units'],window_seq = 800)\n",
    "val_ip_seq, val_out_seq = create_lstm_ip_seq(val_subs_df['units'],window_seq = 800)"
   ]
  },
  {
   "cell_type": "code",
   "execution_count": 179,
   "id": "116c5ea3-75a1-4f14-bf10-1e0ac8829781",
   "metadata": {},
   "outputs": [],
   "source": [
    "def train_lstm_model(train_ip_seq, train_out_seq, val_ip_seq, val_out_seq, lstm_cells = 8, batch_size = 256,\n",
    "                     buffer_size = 10000, epochs = 10, steps_per_epoch=200, validation_steps = 50):\n",
    "    \"\"\"\n",
    "    Trains a simple lstm univariate forecasting model using the above inputs\n",
    "    \"\"\"\n",
    "    \n",
    "    train_univariate = tf.data.Dataset.from_tensor_slices((train_ip_seq, train_out_seq))\n",
    "    train_univariate = train_univariate.cache().shuffle(buffer_size).batch(batch_size).repeat()\n",
    "    \n",
    "    val_univariate = tf.data.Dataset.from_tensor_slices((val_ip_seq, val_out_seq))\n",
    "    val_univariate = val_univariate.batch(batch_size).repeat()\n",
    "    \n",
    "    simple_lstm_model = tf.keras.models.Sequential([\n",
    "        tf.keras.layers.LSTM(lstm_cells, input_shape=(train_ip_seq.shape[1],1)),\n",
    "        tf.keras.layers.Dense(1)\n",
    "    ])\n",
    "\n",
    "    simple_lstm_model.compile(optimizer='adam', loss='msle')\n",
    "    simple_lstm_model.fit(train_univariate, epochs=epochs,\n",
    "                      steps_per_epoch=steps_per_epoch,\n",
    "                      validation_data=val_univariate,\n",
    "                      validation_steps = validation_steps)\n",
    "    \n",
    "    return simple_lstm_model"
   ]
  },
  {
   "cell_type": "code",
   "execution_count": 180,
   "id": "af9e68ed-e8ee-4b23-8c14-bfa6da2c47a8",
   "metadata": {},
   "outputs": [],
   "source": [
    "def plot_validation_results(lstm_model, val_ip_seq, val_out_seq, validation_points = 10):\n",
    "    observations = []\n",
    "    predictions = []\n",
    "    for i in range(validation_points):\n",
    "        pred = simple_lstm_model.predict(val_ip_seq[i].reshape(1,-1))[0][0]\n",
    "        obs = val_out_seq[i]\n",
    "        predictions.append(pred)\n",
    "        observations.append(obs)\n",
    "    plot_observations_predictions(observations, predictions)"
   ]
  },
  {
   "cell_type": "code",
   "execution_count": 181,
   "id": "0de89fb1-42a8-42b4-8d13-5f814965843a",
   "metadata": {},
   "outputs": [
    {
     "name": "stdout",
     "output_type": "stream",
     "text": [
      "Epoch 1/10\n",
      "200/200 [==============================] - 49s 237ms/step - loss: 3.5560 - val_loss: 2.5326\n",
      "Epoch 2/10\n",
      "200/200 [==============================] - 43s 215ms/step - loss: 2.1781 - val_loss: 1.6783\n",
      "Epoch 3/10\n",
      "200/200 [==============================] - 43s 213ms/step - loss: 1.3635 - val_loss: 1.4815\n",
      "Epoch 4/10\n",
      "200/200 [==============================] - 43s 213ms/step - loss: 1.9281 - val_loss: 1.3108\n",
      "Epoch 5/10\n",
      "200/200 [==============================] - 43s 216ms/step - loss: 1.5583 - val_loss: 1.1824\n",
      "Epoch 6/10\n",
      "200/200 [==============================] - 43s 214ms/step - loss: 1.2984 - val_loss: 1.0756\n",
      "Epoch 7/10\n",
      "200/200 [==============================] - 43s 213ms/step - loss: 0.9621 - val_loss: 1.0117\n",
      "Epoch 8/10\n",
      "200/200 [==============================] - 44s 221ms/step - loss: 1.4272 - val_loss: 0.9302\n",
      "Epoch 9/10\n",
      "200/200 [==============================] - 43s 213ms/step - loss: 1.1798 - val_loss: 0.8710\n",
      "Epoch 10/10\n",
      "200/200 [==============================] - 44s 218ms/step - loss: 0.9669 - val_loss: 0.8193\n",
      "1/1 [==============================] - 0s 423ms/step\n",
      "1/1 [==============================] - 0s 46ms/step\n",
      "1/1 [==============================] - 0s 50ms/step\n",
      "1/1 [==============================] - 0s 45ms/step\n",
      "1/1 [==============================] - 0s 50ms/step\n",
      "1/1 [==============================] - 0s 46ms/step\n",
      "1/1 [==============================] - 0s 46ms/step\n",
      "1/1 [==============================] - 0s 49ms/step\n",
      "1/1 [==============================] - 0s 47ms/step\n",
      "1/1 [==============================] - 0s 48ms/step\n"
     ]
    },
    {
     "data": {
      "image/png": "[encoded data removed]",
      "text/plain": [
       "<Figure size 1800x576 with 1 Axes>"
      ]
     },
     "metadata": {
      "needs_background": "light"
     },
     "output_type": "display_data"
    }
   ],
   "source": [
    "simple_lstm_model = train_lstm_model(train_ip_seq, train_out_seq, val_ip_seq, val_out_seq)\n",
    "\n",
    "plot_validation_results(simple_lstm_model, val_ip_seq, val_out_seq)"
   ]
  },
  {
   "cell_type": "markdown",
   "id": "f04a716e-b5c5-45b7-966c-6c59996c1c28",
   "metadata": {},
   "source": [
    "### Conclusion\n",
    "* So we tried three strategies here, but none of them worked.\n",
    "* Hyper-params considered :window-sequence, lstm_cells, batch_size, buffer_size, epochs, steps_per_epoch.\n",
    "* Single grain LSTM training with different hyper-params but didn't work.\n",
    "* All grain LSTM training with different hyper-params, gave 0 for majority of the results as expected.\n",
    "* All non-zero grains LSTM training with different hyper-params, gave unsatisfactory result.\n",
    "* Maybe we are doing something wrong, need guidance in executing this.\n"
   ]
  },
  {
   "cell_type": "code",
   "execution_count": null,
   "id": "571f86fa-25f9-498a-a0a8-b7dec570a057",
   "metadata": {},
   "outputs": [],
   "source": []
  }
 ],
 "metadata": {
  "kernelspec": {
   "display_name": "Python 3",
   "language": "python",
   "name": "python3"
  },
  "language_info": {
   "codemirror_mode": {
    "name": "ipython",
    "version": 3
   },
   "file_extension": ".py",
   "mimetype": "text/x-python",
   "name": "python",
   "nbconvert_exporter": "python",
   "pygments_lexer": "ipython3",
   "version": "3.8.8"
  }
 },
 "nbformat": 4,
 "nbformat_minor": 5
}
